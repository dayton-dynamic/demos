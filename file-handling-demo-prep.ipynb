{
 "cells": [
  {
   "cell_type": "markdown",
   "metadata": {},
   "source": [
    "Setting up files for use with the [file handling demo](file-handling-demo.ipynb)"
   ]
  },
  {
   "cell_type": "code",
   "execution_count": 1,
   "metadata": {},
   "outputs": [],
   "source": [
    "%load_ext sql "
   ]
  },
  {
   "cell_type": "code",
   "execution_count": 2,
   "metadata": {},
   "outputs": [
    {
     "name": "stderr",
     "output_type": "stream",
     "text": [
      "/Volumes/exlinux/Users/catherine/.virtualenvs/demos-0ecOWq_v/lib/python3.6/site-packages/psycopg2/__init__.py:144: UserWarning: The psycopg2 wheel package will be renamed from release 2.8; in order to keep installing from binary please use \"pip install psycopg2-binary\" instead. For details see: <http://initd.org/psycopg/docs/install.html#binary-install-from-pypi>.\n",
      "  \"\"\")\n"
     ]
    },
    {
     "data": {
      "text/plain": [
       "'Connected: None@shakes'"
      ]
     },
     "execution_count": 2,
     "metadata": {},
     "output_type": "execute_result"
    }
   ],
   "source": [
    "%sql postgresql:///shakes"
   ]
  },
  {
   "cell_type": "code",
   "execution_count": 5,
   "metadata": {},
   "outputs": [
    {
     "name": "stdout",
     "output_type": "stream",
     "text": [
      "355 rows affected.\n"
     ]
    }
   ],
   "source": [
    "paras = %sql select charid, workid, section, chapter, plaintext from paragraph tablesample system (1)"
   ]
  },
  {
   "cell_type": "code",
   "execution_count": 11,
   "metadata": {},
   "outputs": [
    {
     "data": {
      "text/plain": [
       "{'chapter': 1,\n",
       " 'charid': 'hotspur',\n",
       " 'plaintext': 'Come, Kate, thou art perfect in lying down: come,\\n[p]quick, quick, that I may lay my head in thy lap.\\n',\n",
       " 'section': 3,\n",
       " 'workid': 'henry4p1'}"
      ]
     },
     "execution_count": 11,
     "metadata": {},
     "output_type": "execute_result"
    }
   ],
   "source": [
    "dict(paras[100])"
   ]
  },
  {
   "cell_type": "code",
   "execution_count": 13,
   "metadata": {},
   "outputs": [],
   "source": [
    "mkdir filedemo-raw"
   ]
  },
  {
   "cell_type": "code",
   "execution_count": 17,
   "metadata": {},
   "outputs": [],
   "source": [
    "import os\n",
    "for prefix in ('a', 'b', 'c', 'd'):\n",
    "    for (idx, p) in enumerate(paras):\n",
    "        content = f'({p.workid} {p.section}:{p.chapter}) {p.charid}: {p.plaintext}'\n",
    "        path = os.path.join('filedemo-raw', f'{prefix}{idx}.txt')\n",
    "        with open(path, 'w') as outfile:\n",
    "            outfile.write(content)"
   ]
  },
  {
   "cell_type": "code",
   "execution_count": 18,
   "metadata": {},
   "outputs": [
    {
     "name": "stdout",
     "output_type": "stream",
     "text": [
      "a0.txt    a259.txt  b1.txt    b26.txt   c10.txt   c260.txt  d100.txt  d261.txt\r\n",
      "a1.txt    a26.txt   b10.txt   b260.txt  c100.txt  c261.txt  d101.txt  d262.txt\r\n",
      "a10.txt   a260.txt  b100.txt  b261.txt  c101.txt  c262.txt  d102.txt  d263.txt\r\n",
      "a100.txt  a261.txt  b101.txt  b262.txt  c102.txt  c263.txt  d103.txt  d264.txt\r\n",
      "a101.txt  a262.txt  b102.txt  b263.txt  c103.txt  c264.txt  d104.txt  d265.txt\r\n",
      "a102.txt  a263.txt  b103.txt  b264.txt  c104.txt  c265.txt  d105.txt  d266.txt\r\n",
      "a103.txt  a264.txt  b104.txt  b265.txt  c105.txt  c266.txt  d106.txt  d267.txt\r\n",
      "a104.txt  a265.txt  b105.txt  b266.txt  c106.txt  c267.txt  d107.txt  d268.txt\r\n",
      "a105.txt  a266.txt  b106.txt  b267.txt  c107.txt  c268.txt  d108.txt  d269.txt\r\n",
      "a106.txt  a267.txt  b107.txt  b268.txt  c108.txt  c269.txt  d109.txt  d27.txt\r\n",
      "a107.txt  a268.txt  b108.txt  b269.txt  c109.txt  c27.txt   d11.txt   d270.txt\r\n",
      "a108.txt  a269.txt  b109.txt  b27.txt   c11.txt   c270.txt  d110.txt  d271.txt\r\n",
      "a109.txt  a27.txt   b11.txt   b270.txt  c110.txt  c271.txt  d111.txt  d272.txt\r\n",
      "a11.txt   a270.txt  b110.txt  b271.txt  c111.txt  c272.txt  d112.txt  d273.txt\r\n",
      "a110.txt  a271.txt  b111.txt  b272.txt  c112.txt  c273.txt  d113.txt  d274.txt\r\n",
      "a111.txt  a272.txt  b112.txt  b273.txt  c113.txt  c274.txt  d114.txt  d275.txt\r\n",
      "a112.txt  a273.txt  b113.txt  b274.txt  c114.txt  c275.txt  d115.txt  d276.txt\r\n",
      "a113.txt  a274.txt  b114.txt  b275.txt  c115.txt  c276.txt  d116.txt  d277.txt\r\n",
      "a114.txt  a275.txt  b115.txt  b276.txt  c116.txt  c277.txt  d117.txt  d278.txt\r\n",
      "a115.txt  a276.txt  b116.txt  b277.txt  c117.txt  c278.txt  d118.txt  d279.txt\r\n",
      "a116.txt  a277.txt  b117.txt  b278.txt  c118.txt  c279.txt  d119.txt  d28.txt\r\n",
      "a117.txt  a278.txt  b118.txt  b279.txt  c119.txt  c28.txt   d12.txt   d280.txt\r\n",
      "a118.txt  a279.txt  b119.txt  b28.txt   c12.txt   c280.txt  d120.txt  d281.txt\r\n",
      "a119.txt  a28.txt   b12.txt   b280.txt  c120.txt  c281.txt  d121.txt  d282.txt\r\n",
      "a12.txt   a280.txt  b120.txt  b281.txt  c121.txt  c282.txt  d122.txt  d283.txt\r\n",
      "a120.txt  a281.txt  b121.txt  b282.txt  c122.txt  c283.txt  d123.txt  d284.txt\r\n",
      "a121.txt  a282.txt  b122.txt  b283.txt  c123.txt  c284.txt  d124.txt  d285.txt\r\n",
      "a122.txt  a283.txt  b123.txt  b284.txt  c124.txt  c285.txt  d125.txt  d286.txt\r\n",
      "a123.txt  a284.txt  b124.txt  b285.txt  c125.txt  c286.txt  d126.txt  d287.txt\r\n",
      "a124.txt  a285.txt  b125.txt  b286.txt  c126.txt  c287.txt  d127.txt  d288.txt\r\n",
      "a125.txt  a286.txt  b126.txt  b287.txt  c127.txt  c288.txt  d128.txt  d289.txt\r\n",
      "a126.txt  a287.txt  b127.txt  b288.txt  c128.txt  c289.txt  d129.txt  d29.txt\r\n",
      "a127.txt  a288.txt  b128.txt  b289.txt  c129.txt  c29.txt   d13.txt   d290.txt\r\n",
      "a128.txt  a289.txt  b129.txt  b29.txt   c13.txt   c290.txt  d130.txt  d291.txt\r\n",
      "a129.txt  a29.txt   b13.txt   b290.txt  c130.txt  c291.txt  d131.txt  d292.txt\r\n",
      "a13.txt   a290.txt  b130.txt  b291.txt  c131.txt  c292.txt  d132.txt  d293.txt\r\n",
      "a130.txt  a291.txt  b131.txt  b292.txt  c132.txt  c293.txt  d133.txt  d294.txt\r\n",
      "a131.txt  a292.txt  b132.txt  b293.txt  c133.txt  c294.txt  d134.txt  d295.txt\r\n",
      "a132.txt  a293.txt  b133.txt  b294.txt  c134.txt  c295.txt  d135.txt  d296.txt\r\n",
      "a133.txt  a294.txt  b134.txt  b295.txt  c135.txt  c296.txt  d136.txt  d297.txt\r\n",
      "a134.txt  a295.txt  b135.txt  b296.txt  c136.txt  c297.txt  d137.txt  d298.txt\r\n",
      "a135.txt  a296.txt  b136.txt  b297.txt  c137.txt  c298.txt  d138.txt  d299.txt\r\n",
      "a136.txt  a297.txt  b137.txt  b298.txt  c138.txt  c299.txt  d139.txt  d3.txt\r\n",
      "a137.txt  a298.txt  b138.txt  b299.txt  c139.txt  c3.txt    d14.txt   d30.txt\r\n",
      "a138.txt  a299.txt  b139.txt  b3.txt    c14.txt   c30.txt   d140.txt  d300.txt\r\n",
      "a139.txt  a3.txt    b14.txt   b30.txt   c140.txt  c300.txt  d141.txt  d301.txt\r\n",
      "a14.txt   a30.txt   b140.txt  b300.txt  c141.txt  c301.txt  d142.txt  d302.txt\r\n",
      "a140.txt  a300.txt  b141.txt  b301.txt  c142.txt  c302.txt  d143.txt  d303.txt\r\n",
      "a141.txt  a301.txt  b142.txt  b302.txt  c143.txt  c303.txt  d144.txt  d304.txt\r\n",
      "a142.txt  a302.txt  b143.txt  b303.txt  c144.txt  c304.txt  d145.txt  d305.txt\r\n",
      "a143.txt  a303.txt  b144.txt  b304.txt  c145.txt  c305.txt  d146.txt  d306.txt\r\n",
      "a144.txt  a304.txt  b145.txt  b305.txt  c146.txt  c306.txt  d147.txt  d307.txt\r\n",
      "a145.txt  a305.txt  b146.txt  b306.txt  c147.txt  c307.txt  d148.txt  d308.txt\r\n",
      "a146.txt  a306.txt  b147.txt  b307.txt  c148.txt  c308.txt  d149.txt  d309.txt\r\n",
      "a147.txt  a307.txt  b148.txt  b308.txt  c149.txt  c309.txt  d15.txt   d31.txt\r\n",
      "a148.txt  a308.txt  b149.txt  b309.txt  c15.txt   c31.txt   d150.txt  d310.txt\r\n",
      "a149.txt  a309.txt  b15.txt   b31.txt   c150.txt  c310.txt  d151.txt  d311.txt\r\n",
      "a15.txt   a31.txt   b150.txt  b310.txt  c151.txt  c311.txt  d152.txt  d312.txt\r\n",
      "a150.txt  a310.txt  b151.txt  b311.txt  c152.txt  c312.txt  d153.txt  d313.txt\r\n",
      "a151.txt  a311.txt  b152.txt  b312.txt  c153.txt  c313.txt  d154.txt  d314.txt\r\n",
      "a152.txt  a312.txt  b153.txt  b313.txt  c154.txt  c314.txt  d155.txt  d315.txt\r\n",
      "a153.txt  a313.txt  b154.txt  b314.txt  c155.txt  c315.txt  d156.txt  d316.txt\r\n",
      "a154.txt  a314.txt  b155.txt  b315.txt  c156.txt  c316.txt  d157.txt  d317.txt\r\n",
      "a155.txt  a315.txt  b156.txt  b316.txt  c157.txt  c317.txt  d158.txt  d318.txt\r\n",
      "a156.txt  a316.txt  b157.txt  b317.txt  c158.txt  c318.txt  d159.txt  d319.txt\r\n",
      "a157.txt  a317.txt  b158.txt  b318.txt  c159.txt  c319.txt  d16.txt   d32.txt\r\n",
      "a158.txt  a318.txt  b159.txt  b319.txt  c16.txt   c32.txt   d160.txt  d320.txt\r\n",
      "a159.txt  a319.txt  b16.txt   b32.txt   c160.txt  c320.txt  d161.txt  d321.txt\r\n",
      "a16.txt   a32.txt   b160.txt  b320.txt  c161.txt  c321.txt  d162.txt  d322.txt\r\n",
      "a160.txt  a320.txt  b161.txt  b321.txt  c162.txt  c322.txt  d163.txt  d323.txt\r\n",
      "a161.txt  a321.txt  b162.txt  b322.txt  c163.txt  c323.txt  d164.txt  d324.txt\r\n",
      "a162.txt  a322.txt  b163.txt  b323.txt  c164.txt  c324.txt  d165.txt  d325.txt\r\n",
      "a163.txt  a323.txt  b164.txt  b324.txt  c165.txt  c325.txt  d166.txt  d326.txt\r\n",
      "a164.txt  a324.txt  b165.txt  b325.txt  c166.txt  c326.txt  d167.txt  d327.txt\r\n",
      "a165.txt  a325.txt  b166.txt  b326.txt  c167.txt  c327.txt  d168.txt  d328.txt\r\n",
      "a166.txt  a326.txt  b167.txt  b327.txt  c168.txt  c328.txt  d169.txt  d329.txt\r\n",
      "a167.txt  a327.txt  b168.txt  b328.txt  c169.txt  c329.txt  d17.txt   d33.txt\r\n",
      "a168.txt  a328.txt  b169.txt  b329.txt  c17.txt   c33.txt   d170.txt  d330.txt\r\n",
      "a169.txt  a329.txt  b17.txt   b33.txt   c170.txt  c330.txt  d171.txt  d331.txt\r\n",
      "a17.txt   a33.txt   b170.txt  b330.txt  c171.txt  c331.txt  d172.txt  d332.txt\r\n",
      "a170.txt  a330.txt  b171.txt  b331.txt  c172.txt  c332.txt  d173.txt  d333.txt\r\n",
      "a171.txt  a331.txt  b172.txt  b332.txt  c173.txt  c333.txt  d174.txt  d334.txt\r\n",
      "a172.txt  a332.txt  b173.txt  b333.txt  c174.txt  c334.txt  d175.txt  d335.txt\r\n",
      "a173.txt  a333.txt  b174.txt  b334.txt  c175.txt  c335.txt  d176.txt  d336.txt\r\n",
      "a174.txt  a334.txt  b175.txt  b335.txt  c176.txt  c336.txt  d177.txt  d337.txt\r\n",
      "a175.txt  a335.txt  b176.txt  b336.txt  c177.txt  c337.txt  d178.txt  d338.txt\r\n",
      "a176.txt  a336.txt  b177.txt  b337.txt  c178.txt  c338.txt  d179.txt  d339.txt\r\n",
      "a177.txt  a337.txt  b178.txt  b338.txt  c179.txt  c339.txt  d18.txt   d34.txt\r\n",
      "a178.txt  a338.txt  b179.txt  b339.txt  c18.txt   c34.txt   d180.txt  d340.txt\r\n",
      "a179.txt  a339.txt  b18.txt   b34.txt   c180.txt  c340.txt  d181.txt  d341.txt\r\n",
      "a18.txt   a34.txt   b180.txt  b340.txt  c181.txt  c341.txt  d182.txt  d342.txt\r\n",
      "a180.txt  a340.txt  b181.txt  b341.txt  c182.txt  c342.txt  d183.txt  d343.txt\r\n",
      "a181.txt  a341.txt  b182.txt  b342.txt  c183.txt  c343.txt  d184.txt  d344.txt\r\n",
      "a182.txt  a342.txt  b183.txt  b343.txt  c184.txt  c344.txt  d185.txt  d345.txt\r\n",
      "a183.txt  a343.txt  b184.txt  b344.txt  c185.txt  c345.txt  d186.txt  d346.txt\r\n",
      "a184.txt  a344.txt  b185.txt  b345.txt  c186.txt  c346.txt  d187.txt  d347.txt\r\n",
      "a185.txt  a345.txt  b186.txt  b346.txt  c187.txt  c347.txt  d188.txt  d348.txt\r\n",
      "a186.txt  a346.txt  b187.txt  b347.txt  c188.txt  c348.txt  d189.txt  d349.txt\r\n",
      "a187.txt  a347.txt  b188.txt  b348.txt  c189.txt  c349.txt  d19.txt   d35.txt\r\n",
      "a188.txt  a348.txt  b189.txt  b349.txt  c19.txt   c35.txt   d190.txt  d350.txt\r\n",
      "a189.txt  a349.txt  b19.txt   b35.txt   c190.txt  c350.txt  d191.txt  d351.txt\r\n",
      "a19.txt   a35.txt   b190.txt  b350.txt  c191.txt  c351.txt  d192.txt  d352.txt\r\n",
      "a190.txt  a350.txt  b191.txt  b351.txt  c192.txt  c352.txt  d193.txt  d353.txt\r\n",
      "a191.txt  a351.txt  b192.txt  b352.txt  c193.txt  c353.txt  d194.txt  d354.txt\r\n",
      "a192.txt  a352.txt  b193.txt  b353.txt  c194.txt  c354.txt  d195.txt  d36.txt\r\n",
      "a193.txt  a353.txt  b194.txt  b354.txt  c195.txt  c36.txt   d196.txt  d37.txt\r\n",
      "a194.txt  a354.txt  b195.txt  b36.txt   c196.txt  c37.txt   d197.txt  d38.txt\r\n",
      "a195.txt  a36.txt   b196.txt  b37.txt   c197.txt  c38.txt   d198.txt  d39.txt\r\n",
      "a196.txt  a37.txt   b197.txt  b38.txt   c198.txt  c39.txt   d199.txt  d4.txt\r\n",
      "a197.txt  a38.txt   b198.txt  b39.txt   c199.txt  c4.txt    d2.txt    d40.txt\r\n",
      "a198.txt  a39.txt   b199.txt  b4.txt    c2.txt    c40.txt   d20.txt   d41.txt\r\n",
      "a199.txt  a4.txt    b2.txt    b40.txt   c20.txt   c41.txt   d200.txt  d42.txt\r\n",
      "a2.txt    a40.txt   b20.txt   b41.txt   c200.txt  c42.txt   d201.txt  d43.txt\r\n",
      "a20.txt   a41.txt   b200.txt  b42.txt   c201.txt  c43.txt   d202.txt  d44.txt\r\n",
      "a200.txt  a42.txt   b201.txt  b43.txt   c202.txt  c44.txt   d203.txt  d45.txt\r\n",
      "a201.txt  a43.txt   b202.txt  b44.txt   c203.txt  c45.txt   d204.txt  d46.txt\r\n",
      "a202.txt  a44.txt   b203.txt  b45.txt   c204.txt  c46.txt   d205.txt  d47.txt\r\n",
      "a203.txt  a45.txt   b204.txt  b46.txt   c205.txt  c47.txt   d206.txt  d48.txt\r\n",
      "a204.txt  a46.txt   b205.txt  b47.txt   c206.txt  c48.txt   d207.txt  d49.txt\r\n",
      "a205.txt  a47.txt   b206.txt  b48.txt   c207.txt  c49.txt   d208.txt  d5.txt\r\n",
      "a206.txt  a48.txt   b207.txt  b49.txt   c208.txt  c5.txt    d209.txt  d50.txt\r\n",
      "a207.txt  a49.txt   b208.txt  b5.txt    c209.txt  c50.txt   d21.txt   d51.txt\r\n",
      "a208.txt  a5.txt    b209.txt  b50.txt   c21.txt   c51.txt   d210.txt  d52.txt\r\n",
      "a209.txt  a50.txt   b21.txt   b51.txt   c210.txt  c52.txt   d211.txt  d53.txt\r\n",
      "a21.txt   a51.txt   b210.txt  b52.txt   c211.txt  c53.txt   d212.txt  d54.txt\r\n",
      "a210.txt  a52.txt   b211.txt  b53.txt   c212.txt  c54.txt   d213.txt  d55.txt\r\n",
      "a211.txt  a53.txt   b212.txt  b54.txt   c213.txt  c55.txt   d214.txt  d56.txt\r\n",
      "a212.txt  a54.txt   b213.txt  b55.txt   c214.txt  c56.txt   d215.txt  d57.txt\r\n",
      "a213.txt  a55.txt   b214.txt  b56.txt   c215.txt  c57.txt   d216.txt  d58.txt\r\n",
      "a214.txt  a56.txt   b215.txt  b57.txt   c216.txt  c58.txt   d217.txt  d59.txt\r\n",
      "a215.txt  a57.txt   b216.txt  b58.txt   c217.txt  c59.txt   d218.txt  d6.txt\r\n",
      "a216.txt  a58.txt   b217.txt  b59.txt   c218.txt  c6.txt    d219.txt  d60.txt\r\n",
      "a217.txt  a59.txt   b218.txt  b6.txt    c219.txt  c60.txt   d22.txt   d61.txt\r\n",
      "a218.txt  a6.txt    b219.txt  b60.txt   c22.txt   c61.txt   d220.txt  d62.txt\r\n",
      "a219.txt  a60.txt   b22.txt   b61.txt   c220.txt  c62.txt   d221.txt  d63.txt\r\n",
      "a22.txt   a61.txt   b220.txt  b62.txt   c221.txt  c63.txt   d222.txt  d64.txt\r\n",
      "a220.txt  a62.txt   b221.txt  b63.txt   c222.txt  c64.txt   d223.txt  d65.txt\r\n",
      "a221.txt  a63.txt   b222.txt  b64.txt   c223.txt  c65.txt   d224.txt  d66.txt\r\n",
      "a222.txt  a64.txt   b223.txt  b65.txt   c224.txt  c66.txt   d225.txt  d67.txt\r\n",
      "a223.txt  a65.txt   b224.txt  b66.txt   c225.txt  c67.txt   d226.txt  d68.txt\r\n",
      "a224.txt  a66.txt   b225.txt  b67.txt   c226.txt  c68.txt   d227.txt  d69.txt\r\n",
      "a225.txt  a67.txt   b226.txt  b68.txt   c227.txt  c69.txt   d228.txt  d7.txt\r\n",
      "a226.txt  a68.txt   b227.txt  b69.txt   c228.txt  c7.txt    d229.txt  d70.txt\r\n",
      "a227.txt  a69.txt   b228.txt  b7.txt    c229.txt  c70.txt   d23.txt   d71.txt\r\n",
      "a228.txt  a7.txt    b229.txt  b70.txt   c23.txt   c71.txt   d230.txt  d72.txt\r\n",
      "a229.txt  a70.txt   b23.txt   b71.txt   c230.txt  c72.txt   d231.txt  d73.txt\r\n",
      "a23.txt   a71.txt   b230.txt  b72.txt   c231.txt  c73.txt   d232.txt  d74.txt\r\n",
      "a230.txt  a72.txt   b231.txt  b73.txt   c232.txt  c74.txt   d233.txt  d75.txt\r\n",
      "a231.txt  a73.txt   b232.txt  b74.txt   c233.txt  c75.txt   d234.txt  d76.txt\r\n",
      "a232.txt  a74.txt   b233.txt  b75.txt   c234.txt  c76.txt   d235.txt  d77.txt\r\n",
      "a233.txt  a75.txt   b234.txt  b76.txt   c235.txt  c77.txt   d236.txt  d78.txt\r\n",
      "a234.txt  a76.txt   b235.txt  b77.txt   c236.txt  c78.txt   d237.txt  d79.txt\r\n",
      "a235.txt  a77.txt   b236.txt  b78.txt   c237.txt  c79.txt   d238.txt  d8.txt\r\n",
      "a236.txt  a78.txt   b237.txt  b79.txt   c238.txt  c8.txt    d239.txt  d80.txt\r\n",
      "a237.txt  a79.txt   b238.txt  b8.txt    c239.txt  c80.txt   d24.txt   d81.txt\r\n",
      "a238.txt  a8.txt    b239.txt  b80.txt   c24.txt   c81.txt   d240.txt  d82.txt\r\n",
      "a239.txt  a80.txt   b24.txt   b81.txt   c240.txt  c82.txt   d241.txt  d83.txt\r\n",
      "a24.txt   a81.txt   b240.txt  b82.txt   c241.txt  c83.txt   d242.txt  d84.txt\r\n",
      "a240.txt  a82.txt   b241.txt  b83.txt   c242.txt  c84.txt   d243.txt  d85.txt\r\n",
      "a241.txt  a83.txt   b242.txt  b84.txt   c243.txt  c85.txt   d244.txt  d86.txt\r\n",
      "a242.txt  a84.txt   b243.txt  b85.txt   c244.txt  c86.txt   d245.txt  d87.txt\r\n",
      "a243.txt  a85.txt   b244.txt  b86.txt   c245.txt  c87.txt   d246.txt  d88.txt\r\n",
      "a244.txt  a86.txt   b245.txt  b87.txt   c246.txt  c88.txt   d247.txt  d89.txt\r\n",
      "a245.txt  a87.txt   b246.txt  b88.txt   c247.txt  c89.txt   d248.txt  d9.txt\r\n",
      "a246.txt  a88.txt   b247.txt  b89.txt   c248.txt  c9.txt    d249.txt  d90.txt\r\n",
      "a247.txt  a89.txt   b248.txt  b9.txt    c249.txt  c90.txt   d25.txt   d91.txt\r\n",
      "a248.txt  a9.txt    b249.txt  b90.txt   c25.txt   c91.txt   d250.txt  d92.txt\r\n",
      "a249.txt  a90.txt   b25.txt   b91.txt   c250.txt  c92.txt   d251.txt  d93.txt\r\n",
      "a25.txt   a91.txt   b250.txt  b92.txt   c251.txt  c93.txt   d252.txt  d94.txt\r\n",
      "a250.txt  a92.txt   b251.txt  b93.txt   c252.txt  c94.txt   d253.txt  d95.txt\r\n",
      "a251.txt  a93.txt   b252.txt  b94.txt   c253.txt  c95.txt   d254.txt  d96.txt\r\n",
      "a252.txt  a94.txt   b253.txt  b95.txt   c254.txt  c96.txt   d255.txt  d97.txt\r\n",
      "a253.txt  a95.txt   b254.txt  b96.txt   c255.txt  c97.txt   d256.txt  d98.txt\r\n",
      "a254.txt  a96.txt   b255.txt  b97.txt   c256.txt  c98.txt   d257.txt  d99.txt\r\n",
      "a255.txt  a97.txt   b256.txt  b98.txt   c257.txt  c99.txt   d258.txt\r\n",
      "a256.txt  a98.txt   b257.txt  b99.txt   c258.txt  d0.txt    d259.txt\r\n",
      "a257.txt  a99.txt   b258.txt  c0.txt    c259.txt  d1.txt    d26.txt\r\n",
      "a258.txt  b0.txt    b259.txt  c1.txt    c26.txt   d10.txt   d260.txt\r\n"
     ]
    }
   ],
   "source": [
    "ls filedemo-raw/"
   ]
  },
  {
   "cell_type": "code",
   "execution_count": 19,
   "metadata": {},
   "outputs": [
    {
     "name": "stdout",
     "output_type": "stream",
     "text": [
      "(psycopg2.ProgrammingError) syntax error at or near \"\\\"\n",
      "LINE 1: \\d\n",
      "        ^\n",
      " [SQL: '\\\\d'] (Background on this error at: http://sqlalche.me/e/f405)\n"
     ]
    }
   ],
   "source": [
    "%sql \\d"
   ]
  },
  {
   "cell_type": "code",
   "execution_count": null,
   "metadata": {},
   "outputs": [],
   "source": []
  }
 ],
 "metadata": {
  "kernelspec": {
   "display_name": "Python 3",
   "language": "python",
   "name": "python3"
  },
  "language_info": {
   "codemirror_mode": {
    "name": "ipython",
    "version": 3
   },
   "file_extension": ".py",
   "mimetype": "text/x-python",
   "name": "python",
   "nbconvert_exporter": "python",
   "pygments_lexer": "ipython3",
   "version": "3.6.4"
  }
 },
 "nbformat": 4,
 "nbformat_minor": 2
}
