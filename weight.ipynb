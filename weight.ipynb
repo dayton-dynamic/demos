{
 "cells": [
  {
   "cell_type": "markdown",
   "metadata": {},
   "source": [
    "# PyFri Jan 4 2019"
   ]
  },
  {
   "cell_type": "code",
   "execution_count": 1,
   "metadata": {},
   "outputs": [],
   "source": [
    "import pathlib"
   ]
  },
  {
   "cell_type": "code",
   "execution_count": 4,
   "metadata": {},
   "outputs": [],
   "source": [
    "raw =! jrnl @weight "
   ]
  },
  {
   "cell_type": "code",
   "execution_count": 5,
   "metadata": {},
   "outputs": [
    {
     "data": {
      "text/plain": [
       "['2017-04-11 10:55 76.8 kg \\x1b[36m@weight\\x1b[39m',\n",
       " '',\n",
       " '2017-04-14 23:10 \\x1b[36m@weight\\x1b[39m: 76.6 kg',\n",
       " '',\n",
       " '2018-11-24 14:42 79.4 kg \\x1b[36m@weight\\x1b[39m',\n",
       " '',\n",
       " '2018-11-26 08:48 78.1 kg \\x1b[36m@weight\\x1b[39m',\n",
       " '',\n",
       " '2018-11-27 18:41 77.4 kg \\x1b[36m@weight\\x1b[39m',\n",
       " '',\n",
       " '2018-11-28 09:00 77.6 kg \\x1b[36m@weight\\x1b[39m',\n",
       " '',\n",
       " '2018-11-29 13:46 \\x1b[36m@weight\\x1b[39m: 78.8 kg',\n",
       " '',\n",
       " '2018-12-01 11:35 78.2 kg \\x1b[36m@weight\\x1b[39m',\n",
       " '',\n",
       " '2018-12-02 15:53 77.8 kg \\x1b[36m@weight\\x1b[39m',\n",
       " '',\n",
       " '2018-12-04 19:47 78.5 kg \\x1b[36m@weight\\x1b[39m',\n",
       " '',\n",
       " '2018-12-05 21:12 77.8 kg \\x1b[36m@weight\\x1b[39m',\n",
       " '',\n",
       " '2018-12-06 22:30 \\x1b[36m@weight\\x1b[39m 77.2 kg',\n",
       " '',\n",
       " '2018-12-07 22:48 \\x1b[36m@weight\\x1b[39m 77.5 kg',\n",
       " '',\n",
       " '2018-12-09 01:06 \\x1b[36m@weight\\x1b[39m 79.2 kg',\n",
       " '',\n",
       " '2018-12-09 23:11 \\x1b[36m@weight\\x1b[39m 78.9 kg',\n",
       " '',\n",
       " '2018-12-16 19:48 77.2 kg \\x1b[36m@weight\\x1b[39m',\n",
       " '',\n",
       " '2018-12-17 23:57 \\x1b[36m@weight\\x1b[39m 76.5 kg',\n",
       " '',\n",
       " '2018-12-19 22:46 \\x1b[36m@weight\\x1b[39m 78.1 kg',\n",
       " '',\n",
       " '2018-12-21 00:01 \\x1b[36m@weight\\x1b[39m 77.6 kg',\n",
       " '',\n",
       " '2018-12-22 21:18 \\x1b[36m@weight\\x1b[39m 78.1 kg',\n",
       " '',\n",
       " '2018-12-27 22:53 \\x1b[36m@weight\\x1b[39m 77.8 kg',\n",
       " '',\n",
       " '2018-12-30 16:06 \\x1b[36m@weight\\x1b[39m 76.9 kg',\n",
       " '',\n",
       " '2018-12-31 23:35 \\x1b[36m@weight\\x1b[39m 78.2 kg',\n",
       " '',\n",
       " '2019-01-01 11:39 \\x1b[36m@weight\\x1b[39m 77.7 kg',\n",
       " '',\n",
       " '2019-01-03 14:50 \\x1b[36m@weight\\x1b[39m 77.6 kg',\n",
       " '']"
      ]
     },
     "execution_count": 5,
     "metadata": {},
     "output_type": "execute_result"
    }
   ],
   "source": [
    "raw"
   ]
  },
  {
   "cell_type": "code",
   "execution_count": 6,
   "metadata": {},
   "outputs": [],
   "source": [
    "nonempty = [row for row in raw if row]"
   ]
  },
  {
   "cell_type": "code",
   "execution_count": 8,
   "metadata": {},
   "outputs": [],
   "source": [
    "import re"
   ]
  },
  {
   "cell_type": "code",
   "execution_count": 9,
   "metadata": {},
   "outputs": [
    {
     "data": {
      "text/plain": [
       "<_sre.SRE_Match object; span=(17, 21), match='77.4'>"
      ]
     },
     "execution_count": 9,
     "metadata": {},
     "output_type": "execute_result"
    }
   ],
   "source": [
    "re.search('\\d\\d\\.\\d', '2018-11-27 18:41 77.4 kg \\x1b[36m@weight\\x1b[39m')"
   ]
  },
  {
   "cell_type": "code",
   "execution_count": 25,
   "metadata": {},
   "outputs": [],
   "source": [
    "import datetime"
   ]
  },
  {
   "cell_type": "code",
   "execution_count": 33,
   "metadata": {},
   "outputs": [],
   "source": [
    "result = {}\n",
    "for row in nonempty:\n",
    "    dt = row.split()[0]\n",
    "    dt = datetime.datetime.strptime(dt, '%Y-%m-%d')\n",
    "    kg = float(re.search('\\d\\d\\.\\d', row).group(0))\n",
    "    result[dt] = kg"
   ]
  },
  {
   "cell_type": "code",
   "execution_count": 34,
   "metadata": {},
   "outputs": [
    {
     "data": {
      "text/plain": [
       "{datetime.datetime(2017, 4, 11, 0, 0): 76.8,\n",
       " datetime.datetime(2017, 4, 14, 0, 0): 76.6,\n",
       " datetime.datetime(2018, 11, 24, 0, 0): 79.4,\n",
       " datetime.datetime(2018, 11, 26, 0, 0): 78.1,\n",
       " datetime.datetime(2018, 11, 27, 0, 0): 77.4,\n",
       " datetime.datetime(2018, 11, 28, 0, 0): 77.6,\n",
       " datetime.datetime(2018, 11, 29, 0, 0): 78.8,\n",
       " datetime.datetime(2018, 12, 1, 0, 0): 78.2,\n",
       " datetime.datetime(2018, 12, 2, 0, 0): 77.8,\n",
       " datetime.datetime(2018, 12, 4, 0, 0): 78.5,\n",
       " datetime.datetime(2018, 12, 5, 0, 0): 77.8,\n",
       " datetime.datetime(2018, 12, 6, 0, 0): 77.2,\n",
       " datetime.datetime(2018, 12, 7, 0, 0): 77.5,\n",
       " datetime.datetime(2018, 12, 9, 0, 0): 78.9,\n",
       " datetime.datetime(2018, 12, 16, 0, 0): 77.2,\n",
       " datetime.datetime(2018, 12, 17, 0, 0): 76.5,\n",
       " datetime.datetime(2018, 12, 19, 0, 0): 78.1,\n",
       " datetime.datetime(2018, 12, 21, 0, 0): 77.6,\n",
       " datetime.datetime(2018, 12, 22, 0, 0): 78.1,\n",
       " datetime.datetime(2018, 12, 27, 0, 0): 77.8,\n",
       " datetime.datetime(2018, 12, 30, 0, 0): 76.9,\n",
       " datetime.datetime(2018, 12, 31, 0, 0): 78.2,\n",
       " datetime.datetime(2019, 1, 1, 0, 0): 77.7,\n",
       " datetime.datetime(2019, 1, 3, 0, 0): 77.6}"
      ]
     },
     "execution_count": 34,
     "metadata": {},
     "output_type": "execute_result"
    }
   ],
   "source": [
    "result"
   ]
  },
  {
   "cell_type": "code",
   "execution_count": 35,
   "metadata": {},
   "outputs": [],
   "source": [
    "%matplotlib inline"
   ]
  },
  {
   "cell_type": "code",
   "execution_count": 36,
   "metadata": {},
   "outputs": [],
   "source": [
    "import pandas as pd"
   ]
  },
  {
   "cell_type": "code",
   "execution_count": 39,
   "metadata": {},
   "outputs": [],
   "source": [
    "ser = pd.Series(result)"
   ]
  },
  {
   "cell_type": "code",
   "execution_count": 40,
   "metadata": {},
   "outputs": [
    {
     "data": {
      "text/plain": [
       "2017-04-11    76.8\n",
       "2017-04-14    76.6\n",
       "2018-11-24    79.4\n",
       "2018-11-26    78.1\n",
       "2018-11-27    77.4\n",
       "2018-11-28    77.6\n",
       "2018-11-29    78.8\n",
       "2018-12-01    78.2\n",
       "2018-12-02    77.8\n",
       "2018-12-04    78.5\n",
       "2018-12-05    77.8\n",
       "2018-12-06    77.2\n",
       "2018-12-07    77.5\n",
       "2018-12-09    78.9\n",
       "2018-12-16    77.2\n",
       "2018-12-17    76.5\n",
       "2018-12-19    78.1\n",
       "2018-12-21    77.6\n",
       "2018-12-22    78.1\n",
       "2018-12-27    77.8\n",
       "2018-12-30    76.9\n",
       "2018-12-31    78.2\n",
       "2019-01-01    77.7\n",
       "2019-01-03    77.6\n",
       "dtype: float64"
      ]
     },
     "execution_count": 40,
     "metadata": {},
     "output_type": "execute_result"
    }
   ],
   "source": [
    "ser"
   ]
  },
  {
   "cell_type": "code",
   "execution_count": 42,
   "metadata": {},
   "outputs": [],
   "source": [
    "ser2 = ser[2:]"
   ]
  },
  {
   "cell_type": "code",
   "execution_count": 43,
   "metadata": {},
   "outputs": [
    {
     "data": {
      "text/plain": [
       "<matplotlib.axes._subplots.AxesSubplot at 0x7efdaf91dda0>"
      ]
     },
     "execution_count": 43,
     "metadata": {},
     "output_type": "execute_result"
    },
    {
     "data": {
      "image/png": "[encoded data removed]",
      "text/plain": [
       "<Figure size 432x288 with 1 Axes>"
      ]
     },
     "metadata": {
      "needs_background": "light"
     },
     "output_type": "display_data"
    }
   ],
   "source": [
    "ser2.plot()"
   ]
  },
  {
   "cell_type": "code",
   "execution_count": 44,
   "metadata": {},
   "outputs": [
    {
     "data": {
      "text/plain": [
       "count    22.000000\n",
       "mean     77.859091\n",
       "std       0.668088\n",
       "min      76.500000\n",
       "25%      77.525000\n",
       "50%      77.800000\n",
       "75%      78.175000\n",
       "max      79.400000\n",
       "dtype: float64"
      ]
     },
     "execution_count": 44,
     "metadata": {},
     "output_type": "execute_result"
    }
   ],
   "source": [
    "ser2.describe()"
   ]
  },
  {
   "cell_type": "code",
   "execution_count": null,
   "metadata": {},
   "outputs": [],
   "source": []
  }
 ],
 "metadata": {
  "kernelspec": {
   "display_name": "Python 3",
   "language": "python",
   "name": "python3"
  },
  "language_info": {
   "codemirror_mode": {
    "name": "ipython",
    "version": 3
   },
   "file_extension": ".py",
   "mimetype": "text/x-python",
   "name": "python",
   "nbconvert_exporter": "python",
   "pygments_lexer": "ipython3",
   "version": "3.6.7"
  }
 },
 "nbformat": 4,
 "nbformat_minor": 2
}
